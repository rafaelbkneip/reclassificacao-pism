{
  "nbformat": 4,
  "nbformat_minor": 0,
  "metadata": {
    "colab": {
      "provenance": [],
      "authorship_tag": "ABX9TyM5XGRLXaOJfUyWBymyrGQj",
      "include_colab_link": true
    },
    "kernelspec": {
      "name": "python3",
      "display_name": "Python 3"
    },
    "language_info": {
      "name": "python"
    }
  },
  "cells": [
    {
      "cell_type": "markdown",
      "metadata": {
        "id": "view-in-github",
        "colab_type": "text"
      },
      "source": [
        "<a href=\"https://colab.research.google.com/github/rafaelbkneip/reclassificacao-pism/blob/main/Reclassifica%C3%A7%C3%B5es_PISM.ipynb\" target=\"_parent\"><img src=\"https://colab.research.google.com/assets/colab-badge.svg\" alt=\"Open In Colab\"/></a>"
      ]
    },
    {
      "cell_type": "code",
      "execution_count": null,
      "metadata": {
        "id": "DJkEW5f5W05A"
      },
      "outputs": [],
      "source": [
        "!pip install pdfplumber -q\n",
        "!pip install PyMuPDF\n",
        "!pip install PyPDF2\n",
        "\n",
        "#Importando bibliotecas\n",
        "import pdfplumber\n",
        "from google.colab import files\n",
        "from PyPDF2 import PdfReader, PdfWriter\n"
      ]
    },
    {
      "cell_type": "code",
      "source": [
        "pdf = files.upload()"
      ],
      "metadata": {
        "colab": {
          "base_uri": "https://localhost:8080/",
          "height": 71
        },
        "id": "rafOSzEAXLIw",
        "outputId": "3d43e111-ef3c-476c-842c-51b849b83bde"
      },
      "execution_count": null,
      "outputs": [
        {
          "output_type": "display_data",
          "data": {
            "text/plain": [
              "<IPython.core.display.HTML object>"
            ],
            "text/html": [
              "\n",
              "     <input type=\"file\" id=\"files-3f4a7c9a-e326-4b5f-9134-6383d1ef12a8\" name=\"files[]\" multiple disabled\n",
              "        style=\"border:none\" />\n",
              "     <output id=\"result-3f4a7c9a-e326-4b5f-9134-6383d1ef12a8\">\n",
              "      Upload widget is only available when the cell has been executed in the\n",
              "      current browser session. Please rerun this cell to enable.\n",
              "      </output>\n",
              "      <script>// Copyright 2017 Google LLC\n",
              "//\n",
              "// Licensed under the Apache License, Version 2.0 (the \"License\");\n",
              "// you may not use this file except in compliance with the License.\n",
              "// You may obtain a copy of the License at\n",
              "//\n",
              "//      http://www.apache.org/licenses/LICENSE-2.0\n",
              "//\n",
              "// Unless required by applicable law or agreed to in writing, software\n",
              "// distributed under the License is distributed on an \"AS IS\" BASIS,\n",
              "// WITHOUT WARRANTIES OR CONDITIONS OF ANY KIND, either express or implied.\n",
              "// See the License for the specific language governing permissions and\n",
              "// limitations under the License.\n",
              "\n",
              "/**\n",
              " * @fileoverview Helpers for google.colab Python module.\n",
              " */\n",
              "(function(scope) {\n",
              "function span(text, styleAttributes = {}) {\n",
              "  const element = document.createElement('span');\n",
              "  element.textContent = text;\n",
              "  for (const key of Object.keys(styleAttributes)) {\n",
              "    element.style[key] = styleAttributes[key];\n",
              "  }\n",
              "  return element;\n",
              "}\n",
              "\n",
              "// Max number of bytes which will be uploaded at a time.\n",
              "const MAX_PAYLOAD_SIZE = 100 * 1024;\n",
              "\n",
              "function _uploadFiles(inputId, outputId) {\n",
              "  const steps = uploadFilesStep(inputId, outputId);\n",
              "  const outputElement = document.getElementById(outputId);\n",
              "  // Cache steps on the outputElement to make it available for the next call\n",
              "  // to uploadFilesContinue from Python.\n",
              "  outputElement.steps = steps;\n",
              "\n",
              "  return _uploadFilesContinue(outputId);\n",
              "}\n",
              "\n",
              "// This is roughly an async generator (not supported in the browser yet),\n",
              "// where there are multiple asynchronous steps and the Python side is going\n",
              "// to poll for completion of each step.\n",
              "// This uses a Promise to block the python side on completion of each step,\n",
              "// then passes the result of the previous step as the input to the next step.\n",
              "function _uploadFilesContinue(outputId) {\n",
              "  const outputElement = document.getElementById(outputId);\n",
              "  const steps = outputElement.steps;\n",
              "\n",
              "  const next = steps.next(outputElement.lastPromiseValue);\n",
              "  return Promise.resolve(next.value.promise).then((value) => {\n",
              "    // Cache the last promise value to make it available to the next\n",
              "    // step of the generator.\n",
              "    outputElement.lastPromiseValue = value;\n",
              "    return next.value.response;\n",
              "  });\n",
              "}\n",
              "\n",
              "/**\n",
              " * Generator function which is called between each async step of the upload\n",
              " * process.\n",
              " * @param {string} inputId Element ID of the input file picker element.\n",
              " * @param {string} outputId Element ID of the output display.\n",
              " * @return {!Iterable<!Object>} Iterable of next steps.\n",
              " */\n",
              "function* uploadFilesStep(inputId, outputId) {\n",
              "  const inputElement = document.getElementById(inputId);\n",
              "  inputElement.disabled = false;\n",
              "\n",
              "  const outputElement = document.getElementById(outputId);\n",
              "  outputElement.innerHTML = '';\n",
              "\n",
              "  const pickedPromise = new Promise((resolve) => {\n",
              "    inputElement.addEventListener('change', (e) => {\n",
              "      resolve(e.target.files);\n",
              "    });\n",
              "  });\n",
              "\n",
              "  const cancel = document.createElement('button');\n",
              "  inputElement.parentElement.appendChild(cancel);\n",
              "  cancel.textContent = 'Cancel upload';\n",
              "  const cancelPromise = new Promise((resolve) => {\n",
              "    cancel.onclick = () => {\n",
              "      resolve(null);\n",
              "    };\n",
              "  });\n",
              "\n",
              "  // Wait for the user to pick the files.\n",
              "  const files = yield {\n",
              "    promise: Promise.race([pickedPromise, cancelPromise]),\n",
              "    response: {\n",
              "      action: 'starting',\n",
              "    }\n",
              "  };\n",
              "\n",
              "  cancel.remove();\n",
              "\n",
              "  // Disable the input element since further picks are not allowed.\n",
              "  inputElement.disabled = true;\n",
              "\n",
              "  if (!files) {\n",
              "    return {\n",
              "      response: {\n",
              "        action: 'complete',\n",
              "      }\n",
              "    };\n",
              "  }\n",
              "\n",
              "  for (const file of files) {\n",
              "    const li = document.createElement('li');\n",
              "    li.append(span(file.name, {fontWeight: 'bold'}));\n",
              "    li.append(span(\n",
              "        `(${file.type || 'n/a'}) - ${file.size} bytes, ` +\n",
              "        `last modified: ${\n",
              "            file.lastModifiedDate ? file.lastModifiedDate.toLocaleDateString() :\n",
              "                                    'n/a'} - `));\n",
              "    const percent = span('0% done');\n",
              "    li.appendChild(percent);\n",
              "\n",
              "    outputElement.appendChild(li);\n",
              "\n",
              "    const fileDataPromise = new Promise((resolve) => {\n",
              "      const reader = new FileReader();\n",
              "      reader.onload = (e) => {\n",
              "        resolve(e.target.result);\n",
              "      };\n",
              "      reader.readAsArrayBuffer(file);\n",
              "    });\n",
              "    // Wait for the data to be ready.\n",
              "    let fileData = yield {\n",
              "      promise: fileDataPromise,\n",
              "      response: {\n",
              "        action: 'continue',\n",
              "      }\n",
              "    };\n",
              "\n",
              "    // Use a chunked sending to avoid message size limits. See b/62115660.\n",
              "    let position = 0;\n",
              "    do {\n",
              "      const length = Math.min(fileData.byteLength - position, MAX_PAYLOAD_SIZE);\n",
              "      const chunk = new Uint8Array(fileData, position, length);\n",
              "      position += length;\n",
              "\n",
              "      const base64 = btoa(String.fromCharCode.apply(null, chunk));\n",
              "      yield {\n",
              "        response: {\n",
              "          action: 'append',\n",
              "          file: file.name,\n",
              "          data: base64,\n",
              "        },\n",
              "      };\n",
              "\n",
              "      let percentDone = fileData.byteLength === 0 ?\n",
              "          100 :\n",
              "          Math.round((position / fileData.byteLength) * 100);\n",
              "      percent.textContent = `${percentDone}% done`;\n",
              "\n",
              "    } while (position < fileData.byteLength);\n",
              "  }\n",
              "\n",
              "  // All done.\n",
              "  yield {\n",
              "    response: {\n",
              "      action: 'complete',\n",
              "    }\n",
              "  };\n",
              "}\n",
              "\n",
              "scope.google = scope.google || {};\n",
              "scope.google.colab = scope.google.colab || {};\n",
              "scope.google.colab._files = {\n",
              "  _uploadFiles,\n",
              "  _uploadFilesContinue,\n",
              "};\n",
              "})(self);\n",
              "</script> "
            ]
          },
          "metadata": {}
        },
        {
          "output_type": "stream",
          "name": "stdout",
          "text": [
            "Saving 4-reclassificação-PISM-2023.pdf to 4-reclassificação-PISM-2023.pdf\n"
          ]
        }
      ]
    },
    {
      "cell_type": "code",
      "source": [
        "unica = []\n",
        "\n",
        "pdf = pdfplumber.open('1-reclassificação-PISM-2023.pdf')\n",
        "\n",
        "readpdf = PdfReader('1-reclassificação-PISM-2023.pdf')\n",
        "\n",
        "print(len(readpdf.pages))\n",
        "\n",
        "for j in range(len(readpdf.pages)):\n",
        "\n",
        "  text = pdf.pages[j].extract_text()\n",
        "\n",
        "  listas = text.split(\"\\n\")\n",
        "\n",
        "  if (j == 0):\n",
        "    print(\"Primeira\")\n",
        "    for i in range(14,(len(listas)-1)):\n",
        "      unica.append(listas[i])\n",
        "\n",
        "  \n",
        "  elif(j == (len(readpdf.pages)-1)): \n",
        "    ultima = (listas[-5])\n",
        "    for i in range(0,listas.index(ultima)):\n",
        "      unica.append(listas[i])\n",
        "\n",
        "\n",
        "  else:\n",
        "    ultima = (listas[-1])\n",
        "    for i in range(0,listas.index(ultima)):\n",
        "      unica.append(listas[i])\n",
        "\n",
        "print(unica)\n"
      ],
      "metadata": {
        "id": "XDJ3A8qu-NNh"
      },
      "execution_count": null,
      "outputs": []
    },
    {
      "cell_type": "code",
      "source": [
        "numero=[]\n",
        "\n",
        "aux = ''\n",
        "for t in range(len(unica)):\n",
        "  \n",
        "  if (\"Grupo\" in unica[t] or unica[t].split(\" \")[0].isdigit()):\n",
        "    print(unica[t])\n",
        "       \n",
        "  else:\n",
        "    numero.append(t)\n",
        "\n",
        "\n"
      ],
      "metadata": {
        "id": "_NauubmrCIng"
      },
      "execution_count": null,
      "outputs": []
    },
    {
      "cell_type": "code",
      "source": [
        "print(unica)\n",
        "print(numero)"
      ],
      "metadata": {
        "id": "ZQZM-pVyDZwG"
      },
      "execution_count": null,
      "outputs": []
    },
    {
      "cell_type": "code",
      "source": [
        "deletar=[]\n",
        "for j in range(len(numero)-1):\n",
        "  if(numero[j+1] - numero [j] == 1):\n",
        "    unica[numero[j]] = unica[numero[j]] + ' ' + unica[numero[j+1]]\n",
        "    print(j)\n",
        "    print(unica[numero[j]])\n",
        "    print(unica[numero[j+1]])\n",
        "    deletar.append(j+1)\n"
      ],
      "metadata": {
        "id": "iRxem5raPfYk"
      },
      "execution_count": null,
      "outputs": []
    },
    {
      "cell_type": "code",
      "source": [
        "cont = 0\n",
        "for r in range(len(deletar)):\n",
        "  unica.pop(numero[deletar[r] - cont ])\n",
        "  cont= cont +1\n"
      ],
      "metadata": {
        "id": "a_DvgXynlzK3"
      },
      "execution_count": null,
      "outputs": []
    },
    {
      "cell_type": "code",
      "source": [
        "print (unica)"
      ],
      "metadata": {
        "id": "IyWDH8ecoJve"
      },
      "execution_count": null,
      "outputs": []
    },
    {
      "cell_type": "code",
      "source": [
        "curso = []\n",
        "grupo = []\n",
        "aluno = []\n",
        "\n",
        "\n",
        "aux = ''\n",
        "for t in range(len(unica)):\n",
        "\n",
        "  print(unica[t])\n",
        "  print(unica[t].split(\" \")[0])\n",
        "  print(unica[t].split(\" \")[0].isdigit())\n",
        "\n",
        "  \n",
        "  if (\"Grupo\" in unica[t]):\n",
        "    grupo.append(t)\n",
        "    \n",
        "  elif(unica[t].split(\" \")[0].isdigit()):\n",
        "    for k in range(3, len(unica[t].split(\" \"))):\n",
        "      if(k == 3):\n",
        "        aux = unica[t].split(\" \")[k]\n",
        "      else:\n",
        "        aux = aux + ' ' + unica[t].split(\" \")[k]\n",
        "\n",
        "\n",
        "    unica[t] = aux\n",
        "    aluno.append(t)\n",
        "    aux = ''\n",
        "    \n",
        "      \n",
        "  else:\n",
        "    curso.append(t)\n"
      ],
      "metadata": {
        "id": "iRi-5De9NxFt"
      },
      "execution_count": null,
      "outputs": []
    },
    {
      "cell_type": "code",
      "source": [
        "print(unica)\n",
        "print(grupo)\n",
        "print(curso)\n",
        "print(aluno)"
      ],
      "metadata": {
        "id": "qQdLGrgdOuPv"
      },
      "execution_count": null,
      "outputs": []
    },
    {
      "cell_type": "code",
      "source": [
        "aux = []\n",
        "lista = []\n",
        "aux_curso = []\n",
        "aux_grupo = []\n",
        "\n",
        "for g in range(len(aluno)):\n",
        "  \n",
        "  for num_curso in range(len(curso)):\n",
        "    if (aluno [g] > curso [num_curso]):\n",
        "      aux_curso.append(curso[num_curso])\n",
        "\n",
        "  for num_grupo in range(len(grupo)):\n",
        "    if (aluno [g] > grupo [num_grupo]):\n",
        "      aux_grupo.append(grupo[num_grupo])\n",
        "\n",
        "  aux.append(unica[aluno[g]])\n",
        "  aux.append(unica[aux_grupo[-1]])\n",
        "  aux.append(unica[aux_curso[-1]])\n",
        "\n",
        "  lista.append(aux)\n",
        "\n",
        "  aux =[]\n",
        "\n",
        " \n",
        "\n",
        "  \n",
        "\n",
        "print(lista)"
      ],
      "metadata": {
        "id": "QlGiAIwiO1ab"
      },
      "execution_count": null,
      "outputs": []
    },
    {
      "cell_type": "code",
      "source": [
        "from google.colab import drive\n",
        "import os\n",
        "#mounting drive\n",
        "drive.mount('/content/gdrive')\n",
        "\n",
        "from google.colab import auth\n",
        "auth.authenticate_user()\n",
        "import gspread\n",
        "from google.auth import default"
      ],
      "metadata": {
        "colab": {
          "base_uri": "https://localhost:8080/"
        },
        "id": "N8_UDPwmD3Es",
        "outputId": "39e9a0ce-a8e7-47a1-9e95-a8f2bd8ca02d"
      },
      "execution_count": null,
      "outputs": [
        {
          "output_type": "stream",
          "name": "stdout",
          "text": [
            "Mounted at /content/gdrive\n"
          ]
        }
      ]
    },
    {
      "cell_type": "code",
      "source": [
        "creds, _ = default()\n",
        "gc = gspread.authorize(creds)\n",
        "planilha = gc.open('4ª Reclassificação PISM')\n",
        "pagina1 = planilha.get_worksheet(0)\n",
        "\n"
      ],
      "metadata": {
        "id": "A9cGnSXzFXp5"
      },
      "execution_count": null,
      "outputs": []
    },
    {
      "cell_type": "code",
      "source": [
        "aprov = (len(lista))\n",
        "aprov"
      ],
      "metadata": {
        "id": "DrOwbjVtWHcW",
        "colab": {
          "base_uri": "https://localhost:8080/"
        },
        "outputId": "2fe617df-9c1c-4fbd-fef2-699338f81b8f"
      },
      "execution_count": null,
      "outputs": [
        {
          "output_type": "execute_result",
          "data": {
            "text/plain": [
              "28"
            ]
          },
          "metadata": {},
          "execution_count": 18
        }
      ]
    },
    {
      "cell_type": "code",
      "source": [
        "for b in range(aprov):\n",
        "  lista_cel = pagina1.range('A' + str(b+1) +':' + 'C' +  str(b+1))\n",
        "  for r in range (3):\n",
        "    lista_cel[r].value = lista[b][r]\n",
        "\n",
        "  pagina1.update_cells(lista_cel)\n"
      ],
      "metadata": {
        "id": "tQnmjBF8WJ19"
      },
      "execution_count": null,
      "outputs": []
    }
  ]
}