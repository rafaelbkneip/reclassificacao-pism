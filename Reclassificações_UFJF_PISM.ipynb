{
  "cells": [
    {
      "cell_type": "markdown",
      "metadata": {
        "id": "view-in-github",
        "colab_type": "text"
      },
      "source": [
        "<a href=\"https://colab.research.google.com/github/rafaelbkneip/reclassificacoes-UFJF-PISM/blob/main/Reclassifica%C3%A7%C3%B5es_UFJF_PISM.ipynb\" target=\"_parent\"><img src=\"https://colab.research.google.com/assets/colab-badge.svg\" alt=\"Open In Colab\"/></a>"
      ]
    },
    {
      "cell_type": "code",
      "execution_count": null,
      "metadata": {
        "id": "DJkEW5f5W05A"
      },
      "outputs": [],
      "source": [
        "!pip install pdfplumber -q\n",
        "!pip install PyMuPDF\n",
        "!pip install PyPDF2\n",
        "\n",
        "#Importando bibliotecas\n",
        "import pdfplumber\n",
        "from google.colab import files\n",
        "from PyPDF2 import PdfReader, PdfWriter\n"
      ]
    },
    {
      "cell_type": "code",
      "execution_count": null,
      "metadata": {
        "id": "rafOSzEAXLIw"
      },
      "outputs": [],
      "source": [
        "pdf = files.upload()"
      ]
    },
    {
      "cell_type": "code",
      "execution_count": null,
      "metadata": {
        "id": "XDJ3A8qu-NNh"
      },
      "outputs": [],
      "source": [
        "unica = []\n",
        "\n",
        "pdf = pdfplumber.open('5-reclassificação-PISM-2023.pdf')\n",
        "\n",
        "readpdf = PdfReader('5-reclassificação-PISM-2023.pdf')\n",
        "\n",
        "print(len(readpdf.pages))\n",
        "\n",
        "for j in range(len(readpdf.pages)):\n",
        "\n",
        "  text = pdf.pages[j].extract_text()\n",
        "\n",
        "  listas = text.split(\"\\n\")\n",
        "\n",
        "  if (j == 0):\n",
        "    print(\"Primeira\")\n",
        "    for i in range(14,(len(listas)-1)):\n",
        "      unica.append(listas[i])\n",
        "\n",
        "  \n",
        "  elif(j == (len(readpdf.pages)-1)): \n",
        "    ultima = (listas[-5])\n",
        "    for i in range(0,listas.index(ultima)):\n",
        "      unica.append(listas[i])\n",
        "\n",
        "\n",
        "  else:\n",
        "    ultima = (listas[-1])\n",
        "    for i in range(0,listas.index(ultima)):\n",
        "      unica.append(listas[i])\n",
        "\n",
        "print(unica)\n"
      ]
    },
    {
      "cell_type": "code",
      "execution_count": null,
      "metadata": {
        "id": "_NauubmrCIng"
      },
      "outputs": [],
      "source": [
        "numero=[]\n",
        "\n",
        "aux = ''\n",
        "for t in range(len(unica)):\n",
        "  \n",
        "  if (\"Grupo\" in unica[t] or unica[t].split(\" \")[0].isdigit()):\n",
        "    print(unica[t])\n",
        "       \n",
        "  else:\n",
        "    numero.append(t)\n",
        "\n",
        "\n"
      ]
    },
    {
      "cell_type": "code",
      "execution_count": null,
      "metadata": {
        "id": "iRxem5raPfYk"
      },
      "outputs": [],
      "source": [
        "deletar=[]\n",
        "for j in range(len(numero)-1):\n",
        "  if(numero[j+1] - numero [j] == 1):\n",
        "    unica[numero[j]] = unica[numero[j]] + ' ' + unica[numero[j+1]]\n",
        "    print(j)\n",
        "    print(unica[numero[j]])\n",
        "    print(unica[numero[j+1]])\n",
        "    deletar.append(j+1)\n"
      ]
    },
    {
      "cell_type": "code",
      "execution_count": null,
      "metadata": {
        "id": "a_DvgXynlzK3"
      },
      "outputs": [],
      "source": [
        "cont = 0\n",
        "for r in range(len(deletar)):\n",
        "  unica.pop(numero[deletar[r] - cont ])\n",
        "  cont= cont +1\n"
      ]
    },
    {
      "cell_type": "code",
      "execution_count": null,
      "metadata": {
        "id": "iRi-5De9NxFt"
      },
      "outputs": [],
      "source": [
        "curso = []\n",
        "grupo = []\n",
        "aluno = []\n",
        "\n",
        "\n",
        "aux = ''\n",
        "for t in range(len(unica)):\n",
        "\n",
        "  print(unica[t])\n",
        "  print(unica[t].split(\" \")[0])\n",
        "  print(unica[t].split(\" \")[0].isdigit())\n",
        "\n",
        "  \n",
        "  if (\"Grupo\" in unica[t]):\n",
        "    grupo.append(t)\n",
        "    \n",
        "  elif(unica[t].split(\" \")[0].isdigit()):\n",
        "    for k in range(3, len(unica[t].split(\" \"))):\n",
        "      if(k == 3):\n",
        "        aux = unica[t].split(\" \")[k]\n",
        "      else:\n",
        "        aux = aux + ' ' + unica[t].split(\" \")[k]\n",
        "\n",
        "\n",
        "    unica[t] = aux\n",
        "    aluno.append(t)\n",
        "    aux = ''\n",
        "    \n",
        "      \n",
        "  else:\n",
        "    curso.append(t)\n"
      ]
    },
    {
      "cell_type": "code",
      "execution_count": null,
      "metadata": {
        "id": "QlGiAIwiO1ab"
      },
      "outputs": [],
      "source": [
        "aux = []\n",
        "lista = []\n",
        "aux_curso = []\n",
        "aux_grupo = []\n",
        "\n",
        "for g in range(len(aluno)):\n",
        "  \n",
        "  for num_curso in range(len(curso)):\n",
        "    if (aluno [g] > curso [num_curso]):\n",
        "      aux_curso.append(curso[num_curso])\n",
        "\n",
        "  for num_grupo in range(len(grupo)):\n",
        "    if (aluno [g] > grupo [num_grupo]):\n",
        "      aux_grupo.append(grupo[num_grupo])\n",
        "\n",
        "  aux.append(unica[aluno[g]])\n",
        "  aux.append(unica[aux_grupo[-1]])\n",
        "  aux.append(unica[aux_curso[-1]])\n",
        "\n",
        "  lista.append(aux)\n",
        "\n",
        "  aux =[]\n",
        "\n",
        "\n",
        "print(lista)"
      ]
    },
    {
      "cell_type": "code",
      "execution_count": null,
      "metadata": {
        "colab": {
          "base_uri": "https://localhost:8080/"
        },
        "id": "N8_UDPwmD3Es",
        "outputId": "86f9e8e3-6668-44a1-d973-e910a24ddf28"
      },
      "outputs": [
        {
          "output_type": "stream",
          "name": "stdout",
          "text": [
            "Mounted at /content/gdrive\n"
          ]
        }
      ],
      "source": [
        "from google.colab import drive\n",
        "import os\n",
        "#mounting drive\n",
        "drive.mount('/content/gdrive')\n",
        "\n",
        "from google.colab import auth\n",
        "auth.authenticate_user()\n",
        "import gspread\n",
        "from google.auth import default"
      ]
    },
    {
      "cell_type": "code",
      "execution_count": null,
      "metadata": {
        "id": "A9cGnSXzFXp5"
      },
      "outputs": [],
      "source": [
        "creds, _ = default()\n",
        "gc = gspread.authorize(creds)\n",
        "planilha = gc.open('5ª Reclassificação PISM')\n",
        "pagina1 = planilha.get_worksheet(0)\n",
        "\n"
      ]
    },
    {
      "cell_type": "code",
      "execution_count": null,
      "metadata": {
        "id": "DrOwbjVtWHcW"
      },
      "outputs": [],
      "source": [
        "aprov = (len(lista))\n",
        "aprov"
      ]
    },
    {
      "cell_type": "code",
      "execution_count": null,
      "metadata": {
        "id": "tQnmjBF8WJ19"
      },
      "outputs": [],
      "source": [
        "for b in range(aprov):\n",
        "  lista_cel = pagina1.range('A' + str(b+1) +':' + 'C' +  str(b+1))\n",
        "  for r in range (3):\n",
        "    lista_cel[r].value = lista[b][r]\n",
        "\n",
        "  pagina1.update_cells(lista_cel)\n"
      ]
    }
  ],
  "metadata": {
    "colab": {
      "provenance": [],
      "authorship_tag": "ABX9TyMaADkLIwPMjlfnhzicvtvv",
      "include_colab_link": true
    },
    "kernelspec": {
      "display_name": "Python 3",
      "name": "python3"
    },
    "language_info": {
      "name": "python"
    }
  },
  "nbformat": 4,
  "nbformat_minor": 0
}